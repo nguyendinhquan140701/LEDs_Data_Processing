{
 "cells": [
  {
   "cell_type": "code",
   "execution_count": 4,
   "metadata": {},
   "outputs": [],
   "source": [
    "import numpy as np\n",
    "import pandas as pd\n",
    "\n",
    "# Extract the unique X3 and Y2 values to complete the grid\n",
    "X2_range = np.arange(-70, 71, 10)\n",
    "Y2_range = np.arange(-70, 71, 10)\n",
    "Z2_value = 130\n",
    "\n",
    "# Initialize an empty list for the new data\n",
    "new_data = []\n",
    "\n",
    "# Loop over X2 and Y2 values to generate the required rows of data\n",
    "for X2 in X2_range:\n",
    "    for Y2 in Y2_range:\n",
    "        Z2 = Z2_value\n",
    "\n",
    "        while True:  # Continue generating values until either condition is satisfied\n",
    "            # Generate x2, y2, z2 that satisfy delta conditions\n",
    "            delta_x2 = np.random.uniform(-6, 6)\n",
    "            delta_y2 = np.random.uniform(-4, 6)\n",
    "            x2 = X2 + delta_x2\n",
    "            y2 = Y2 + delta_y2\n",
    "\n",
    "            # Calculate delta_xy2\n",
    "            delta_xy2 = np.sqrt(delta_x2**2 + delta_y2**2)\n",
    "\n",
    "            # Generate delta_z2 within the range (-6, 10)\n",
    "            delta_z2 = np.random.uniform(-6, 10)\n",
    "            z2 = Z2 + delta_z2\n",
    "\n",
    "            # Calculate delta_xyz2\n",
    "            delta_xyz2 = np.sqrt(delta_x2**2 + delta_y2**2 + delta_z2**2)\n",
    "\n",
    "            # Check both conditions, if either fails regenerate data\n",
    "            xy_condition = (0 <= delta_xy2 <= 6.5) and (np.random.rand() >= 0.6 or (2 <= delta_xy2 <= 4))\n",
    "            xyz_condition = (2 <= delta_xyz2 <= 10) and (np.random.rand() >= 0.6 or (6 <= delta_xyz2 <= 10))\n",
    "\n",
    "            if xy_condition and xyz_condition:\n",
    "                break  # If both conditions are satisfied, break the loop\n",
    "\n",
    "        # Add the new row to the dataset\n",
    "        new_data.append([X2, Y2, Z2, x2, y2, z2, delta_x2, delta_y2, delta_z2, delta_xy2, delta_xyz2])\n",
    "\n",
    "# Convert the new_data into a DataFrame\n",
    "new_data_df = pd.DataFrame(new_data, columns=[\n",
    "    'X2', 'Y2', 'Z2', 'x2', 'y2', 'z2', 'delta_x2', 'delta_y2', 'delta_z2', 'delta_xy2', 'delta_xyz2'\n",
    "])\n",
    "\n",
    "# Save the new data to a CSV file\n",
    "new_file_path = 'E:\\Project\\OOC\\LEDs_Data_Processing\\Encode_Decode\\draw\\data\\\\02_indoor_position_data.csv'\n",
    "new_data_df.to_csv(new_file_path, index=False)\n",
    "\n",
    "# Display the first few rows of the generated data\n",
    "new_data_df.head()\n"
   ]
  }
 ],
 "metadata": {
  "kernelspec": {
   "display_name": "CV",
   "language": "python",
   "name": "python3"
  },
  "language_info": {
   "codemirror_mode": {
    "name": "ipython",
    "version": 3
   },
   "file_extension": ".py",
   "mimetype": "text/x-python",
   "name": "python",
   "nbconvert_exporter": "python",
   "pygments_lexer": "ipython3",
   "version": "3.10.14"
  }
 },
 "nbformat": 4,
 "nbformat_minor": 2
}
